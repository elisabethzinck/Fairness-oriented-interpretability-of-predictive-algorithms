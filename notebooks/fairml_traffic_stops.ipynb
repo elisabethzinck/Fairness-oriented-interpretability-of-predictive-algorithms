{
 "cells": [
  {
   "cell_type": "code",
   "execution_count": 2,
   "source": [
    "import pandas as pd"
   ],
   "outputs": [],
   "metadata": {}
  },
  {
   "cell_type": "markdown",
   "source": [
    "# Fairml book problem set: Data modeling of traffic stops"
   ],
   "metadata": {}
  },
  {
   "cell_type": "markdown",
   "source": [
    "Data is downloaded from link in fairml book and unzipped using 7-zip. "
   ],
   "metadata": {}
  },
  {
   "cell_type": "markdown",
   "source": [
    "### Loading data"
   ],
   "metadata": {}
  },
  {
   "cell_type": "code",
   "execution_count": 53,
   "source": [
    "data_path = '..\\\\data\\\\raw\\\\fairml_traffic_stops\\\\NC_cleaned.csv'\r\n",
    "df = pd.read_csv(data_path, low_memory = False) # low_memory False due to mixed types in columns"
   ],
   "outputs": [],
   "metadata": {}
  },
  {
   "cell_type": "code",
   "execution_count": 54,
   "source": [
    "df.head()"
   ],
   "outputs": [
    {
     "output_type": "execute_result",
     "data": {
      "text/plain": [
       "               id state   stop_date stop_time location_raw county_name  \\\n",
       "0  NC-2000-000001    NC  2000-01-01     00:01          NaN         NaN   \n",
       "1  NC-2000-000002    NC  2000-01-01     00:01          NaN         NaN   \n",
       "2  NC-2000-000003    NC  2000-01-01     00:01          NaN         NaN   \n",
       "3  NC-2000-000004    NC  2000-01-01     00:02          NaN         NaN   \n",
       "4  NC-2000-000005    NC  2000-01-01     00:02          NaN         NaN   \n",
       "\n",
       "   county_fips fine_grained_location        police_department driver_gender  \\\n",
       "0          NaN               Unknown  NC State Highway Patrol             M   \n",
       "1          NaN               Unknown  NC State Highway Patrol             M   \n",
       "2          NaN               Unknown  NC State Highway Patrol             F   \n",
       "3          NaN               Unknown  NC State Highway Patrol             F   \n",
       "4          NaN               Unknown  NC State Highway Patrol             F   \n",
       "\n",
       "   ...            search_type_raw         search_type contraband_found  \\\n",
       "0  ...  Search Incident to Arrest  Incident to Arrest            False   \n",
       "1  ...                        NaN                 NaN            False   \n",
       "2  ...                        NaN                 NaN            False   \n",
       "3  ...                        NaN                 NaN            False   \n",
       "4  ...                        NaN                 NaN            False   \n",
       "\n",
       "      stop_outcome is_arrested search_basis  officer_id drugs_related_stop  \\\n",
       "0           Arrest        True          NaN         NaN                NaN   \n",
       "1  Written Warning       False          NaN         NaN                NaN   \n",
       "2  Written Warning       False          NaN         NaN                NaN   \n",
       "3         Citation       False          NaN         NaN                NaN   \n",
       "4        No Action       False          NaN         NaN                NaN   \n",
       "\n",
       "  ethnicity  district  \n",
       "0         N       NaN  \n",
       "1         N       NaN  \n",
       "2         N       NaN  \n",
       "3         N       NaN  \n",
       "4         N       NaN  \n",
       "\n",
       "[5 rows x 27 columns]"
      ],
      "text/html": [
       "<div>\n",
       "<style scoped>\n",
       "    .dataframe tbody tr th:only-of-type {\n",
       "        vertical-align: middle;\n",
       "    }\n",
       "\n",
       "    .dataframe tbody tr th {\n",
       "        vertical-align: top;\n",
       "    }\n",
       "\n",
       "    .dataframe thead th {\n",
       "        text-align: right;\n",
       "    }\n",
       "</style>\n",
       "<table border=\"1\" class=\"dataframe\">\n",
       "  <thead>\n",
       "    <tr style=\"text-align: right;\">\n",
       "      <th></th>\n",
       "      <th>id</th>\n",
       "      <th>state</th>\n",
       "      <th>stop_date</th>\n",
       "      <th>stop_time</th>\n",
       "      <th>location_raw</th>\n",
       "      <th>county_name</th>\n",
       "      <th>county_fips</th>\n",
       "      <th>fine_grained_location</th>\n",
       "      <th>police_department</th>\n",
       "      <th>driver_gender</th>\n",
       "      <th>...</th>\n",
       "      <th>search_type_raw</th>\n",
       "      <th>search_type</th>\n",
       "      <th>contraband_found</th>\n",
       "      <th>stop_outcome</th>\n",
       "      <th>is_arrested</th>\n",
       "      <th>search_basis</th>\n",
       "      <th>officer_id</th>\n",
       "      <th>drugs_related_stop</th>\n",
       "      <th>ethnicity</th>\n",
       "      <th>district</th>\n",
       "    </tr>\n",
       "  </thead>\n",
       "  <tbody>\n",
       "    <tr>\n",
       "      <th>0</th>\n",
       "      <td>NC-2000-000001</td>\n",
       "      <td>NC</td>\n",
       "      <td>2000-01-01</td>\n",
       "      <td>00:01</td>\n",
       "      <td>NaN</td>\n",
       "      <td>NaN</td>\n",
       "      <td>NaN</td>\n",
       "      <td>Unknown</td>\n",
       "      <td>NC State Highway Patrol</td>\n",
       "      <td>M</td>\n",
       "      <td>...</td>\n",
       "      <td>Search Incident to Arrest</td>\n",
       "      <td>Incident to Arrest</td>\n",
       "      <td>False</td>\n",
       "      <td>Arrest</td>\n",
       "      <td>True</td>\n",
       "      <td>NaN</td>\n",
       "      <td>NaN</td>\n",
       "      <td>NaN</td>\n",
       "      <td>N</td>\n",
       "      <td>NaN</td>\n",
       "    </tr>\n",
       "    <tr>\n",
       "      <th>1</th>\n",
       "      <td>NC-2000-000002</td>\n",
       "      <td>NC</td>\n",
       "      <td>2000-01-01</td>\n",
       "      <td>00:01</td>\n",
       "      <td>NaN</td>\n",
       "      <td>NaN</td>\n",
       "      <td>NaN</td>\n",
       "      <td>Unknown</td>\n",
       "      <td>NC State Highway Patrol</td>\n",
       "      <td>M</td>\n",
       "      <td>...</td>\n",
       "      <td>NaN</td>\n",
       "      <td>NaN</td>\n",
       "      <td>False</td>\n",
       "      <td>Written Warning</td>\n",
       "      <td>False</td>\n",
       "      <td>NaN</td>\n",
       "      <td>NaN</td>\n",
       "      <td>NaN</td>\n",
       "      <td>N</td>\n",
       "      <td>NaN</td>\n",
       "    </tr>\n",
       "    <tr>\n",
       "      <th>2</th>\n",
       "      <td>NC-2000-000003</td>\n",
       "      <td>NC</td>\n",
       "      <td>2000-01-01</td>\n",
       "      <td>00:01</td>\n",
       "      <td>NaN</td>\n",
       "      <td>NaN</td>\n",
       "      <td>NaN</td>\n",
       "      <td>Unknown</td>\n",
       "      <td>NC State Highway Patrol</td>\n",
       "      <td>F</td>\n",
       "      <td>...</td>\n",
       "      <td>NaN</td>\n",
       "      <td>NaN</td>\n",
       "      <td>False</td>\n",
       "      <td>Written Warning</td>\n",
       "      <td>False</td>\n",
       "      <td>NaN</td>\n",
       "      <td>NaN</td>\n",
       "      <td>NaN</td>\n",
       "      <td>N</td>\n",
       "      <td>NaN</td>\n",
       "    </tr>\n",
       "    <tr>\n",
       "      <th>3</th>\n",
       "      <td>NC-2000-000004</td>\n",
       "      <td>NC</td>\n",
       "      <td>2000-01-01</td>\n",
       "      <td>00:02</td>\n",
       "      <td>NaN</td>\n",
       "      <td>NaN</td>\n",
       "      <td>NaN</td>\n",
       "      <td>Unknown</td>\n",
       "      <td>NC State Highway Patrol</td>\n",
       "      <td>F</td>\n",
       "      <td>...</td>\n",
       "      <td>NaN</td>\n",
       "      <td>NaN</td>\n",
       "      <td>False</td>\n",
       "      <td>Citation</td>\n",
       "      <td>False</td>\n",
       "      <td>NaN</td>\n",
       "      <td>NaN</td>\n",
       "      <td>NaN</td>\n",
       "      <td>N</td>\n",
       "      <td>NaN</td>\n",
       "    </tr>\n",
       "    <tr>\n",
       "      <th>4</th>\n",
       "      <td>NC-2000-000005</td>\n",
       "      <td>NC</td>\n",
       "      <td>2000-01-01</td>\n",
       "      <td>00:02</td>\n",
       "      <td>NaN</td>\n",
       "      <td>NaN</td>\n",
       "      <td>NaN</td>\n",
       "      <td>Unknown</td>\n",
       "      <td>NC State Highway Patrol</td>\n",
       "      <td>F</td>\n",
       "      <td>...</td>\n",
       "      <td>NaN</td>\n",
       "      <td>NaN</td>\n",
       "      <td>False</td>\n",
       "      <td>No Action</td>\n",
       "      <td>False</td>\n",
       "      <td>NaN</td>\n",
       "      <td>NaN</td>\n",
       "      <td>NaN</td>\n",
       "      <td>N</td>\n",
       "      <td>NaN</td>\n",
       "    </tr>\n",
       "  </tbody>\n",
       "</table>\n",
       "<p>5 rows × 27 columns</p>\n",
       "</div>"
      ]
     },
     "metadata": {},
     "execution_count": 54
    }
   ],
   "metadata": {}
  },
  {
   "cell_type": "code",
   "execution_count": 55,
   "source": [
    "df.dtypes"
   ],
   "outputs": [
    {
     "output_type": "execute_result",
     "data": {
      "text/plain": [
       "id                        object\n",
       "state                     object\n",
       "stop_date                 object\n",
       "stop_time                 object\n",
       "location_raw              object\n",
       "county_name               object\n",
       "county_fips              float64\n",
       "fine_grained_location     object\n",
       "police_department         object\n",
       "driver_gender             object\n",
       "driver_age_raw           float64\n",
       "driver_age               float64\n",
       "driver_race_raw           object\n",
       "driver_race               object\n",
       "violation_raw             object\n",
       "violation                 object\n",
       "search_conducted            bool\n",
       "search_type_raw           object\n",
       "search_type               object\n",
       "contraband_found            bool\n",
       "stop_outcome              object\n",
       "is_arrested                 bool\n",
       "search_basis              object\n",
       "officer_id                object\n",
       "drugs_related_stop        object\n",
       "ethnicity                 object\n",
       "district                  object\n",
       "dtype: object"
      ]
     },
     "metadata": {},
     "execution_count": 55
    }
   ],
   "metadata": {}
  },
  {
   "cell_type": "code",
   "execution_count": 56,
   "source": [
    "df.shape"
   ],
   "outputs": [
    {
     "output_type": "execute_result",
     "data": {
      "text/plain": [
       "(9558084, 27)"
      ]
     },
     "metadata": {},
     "execution_count": 56
    }
   ],
   "metadata": {}
  },
  {
   "cell_type": "code",
   "execution_count": 57,
   "source": [
    "df.id.is_unique # All rows are unique"
   ],
   "outputs": [
    {
     "output_type": "execute_result",
     "data": {
      "text/plain": [
       "True"
      ]
     },
     "metadata": {},
     "execution_count": 57
    }
   ],
   "metadata": {}
  },
  {
   "cell_type": "markdown",
   "source": [
    "## Part A \r\n",
    "### Counting stop rates and population sizes\r\n",
    "\r\n",
    "First the data is cleaned to contain only the relevant categories and age is aggregated into the age groups"
   ],
   "metadata": {}
  },
  {
   "cell_type": "code",
   "execution_count": 74,
   "source": [
    "# Fixing race\r\n",
    "race_groups = ['Asian', 'Black', 'Hispanic', 'White']\r\n",
    "df_clean = df[df.driver_race.isin(race_groups)].copy()\r\n",
    "df_clean.shape"
   ],
   "outputs": [
    {
     "output_type": "execute_result",
     "data": {
      "text/plain": [
       "(9310376, 27)"
      ]
     },
     "metadata": {},
     "execution_count": 74
    }
   ],
   "metadata": {}
  },
  {
   "cell_type": "code",
   "execution_count": 75,
   "source": [
    "# Exists entry without age - this entry is filtered out\r\n",
    "print(df_clean.driver_age.unique()) \r\n",
    "df_clean = df_clean[df_clean.driver_age.notnull()].copy()\r\n",
    "max_age = max(df_clean.driver_age)\r\n",
    "df_clean.shape"
   ],
   "outputs": [
    {
     "output_type": "stream",
     "name": "stdout",
     "text": [
      "[35. 20. 26. 48. 18. 25. 30. 40. 28. 21. 22. 31. 23. 27. 50. 44. 17. 19.\n",
      " 60. 33. 45. 37. 49. 24. 54. 41. 63. 29. 67. 32. 16. 57. 36. 46. 86. 43.\n",
      " 42. 77. 59. 34. 38. 51. 66. 65. 79. 39. 52. 64. 58. 53. 85. 69. 47. 72.\n",
      " 71. 56. 15. 55. 74. 62. 61. 68. 76. nan 81. 70. 73. 78. 75. 84. 83. 80.\n",
      " 92. 90. 82. 97. 87. 91. 89. 94. 93. 96. 88. 95. 99. 98.]\n"
     ]
    },
    {
     "output_type": "execute_result",
     "data": {
      "text/plain": [
       "(9308215, 27)"
      ]
     },
     "metadata": {},
     "execution_count": 75
    }
   ],
   "metadata": {}
  },
  {
   "cell_type": "code",
   "execution_count": 77,
   "source": [
    "# Fixing age\r\n",
    "age_groups = [15, 20, 30, 40, 50, max_age+1]\r\n",
    "df_clean['driver_age_group'] = pd.cut(\r\n",
    "    df_clean.driver_age, \r\n",
    "    bins = age_groups, \r\n",
    "    right = False)\r\n"
   ],
   "outputs": [
    {
     "output_type": "execute_result",
     "data": {
      "text/plain": [
       "(9308215, 28)"
      ]
     },
     "metadata": {},
     "execution_count": 77
    }
   ],
   "metadata": {}
  },
  {
   "cell_type": "code",
   "execution_count": 15,
   "source": [
    "# Gender is as it should be\r\n",
    "df_clean.driver_gender.unique()"
   ],
   "outputs": [
    {
     "output_type": "execute_result",
     "data": {
      "text/plain": [
       "array(['F', 'M'], dtype=object)"
      ]
     },
     "metadata": {},
     "execution_count": 15
    }
   ],
   "metadata": {}
  },
  {
   "cell_type": "code",
   "execution_count": 78,
   "source": [
    "# District\r\n",
    "# Removing all with unknown districts\r\n",
    "df_clean = df_clean[df_clean.district.notnull()].copy()"
   ],
   "outputs": [
    {
     "output_type": "execute_result",
     "data": {
      "text/plain": [
       "(8979701, 28)"
      ]
     },
     "metadata": {},
     "execution_count": 78
    }
   ],
   "metadata": {}
  },
  {
   "cell_type": "code",
   "execution_count": 79,
   "source": [
    "# Year\r\n",
    "df_clean['stop_year'] = df_clean.stop_date.str.slice(0,4).astype(int)\r\n",
    "df_clean = df_clean[(df_clean.stop_year > 2009) & (df_clean.stop_year < 2016)]"
   ],
   "outputs": [
    {
     "output_type": "execute_result",
     "data": {
      "text/plain": [
       "(4312841, 29)"
      ]
     },
     "metadata": {},
     "execution_count": 79
    }
   ],
   "metadata": {}
  },
  {
   "cell_type": "code",
   "execution_count": 88,
   "source": [
    "# Making final table\r\n",
    "group_cols = ['driver_race', 'driver_age_group', 'driver_gender', 'district', 'stop_year']\r\n",
    "count_table = df_clean.groupby(group_cols).size().reset_index(name = 'n_stops')\r\n",
    "count_table.driver_age_group = count_table.driver_age_group.astype(\"str\")"
   ],
   "outputs": [],
   "metadata": {}
  },
  {
   "cell_type": "code",
   "execution_count": 89,
   "source": [
    "count_table.head(10)"
   ],
   "outputs": [
    {
     "output_type": "execute_result",
     "data": {
      "text/plain": [
       "  driver_race driver_age_group driver_gender district  stop_year  n_stops\n",
       "0       Asian     [15.0, 20.0)             F       A1       2010        1\n",
       "1       Asian     [15.0, 20.0)             F       A1       2011        1\n",
       "2       Asian     [15.0, 20.0)             F       A1       2012        1\n",
       "3       Asian     [15.0, 20.0)             F       A1       2013        0\n",
       "4       Asian     [15.0, 20.0)             F       A1       2014        0\n",
       "5       Asian     [15.0, 20.0)             F       A1       2015        2\n",
       "6       Asian     [15.0, 20.0)             F       A2       2010        0\n",
       "7       Asian     [15.0, 20.0)             F       A2       2011        0\n",
       "8       Asian     [15.0, 20.0)             F       A2       2012        0\n",
       "9       Asian     [15.0, 20.0)             F       A2       2013        2"
      ],
      "text/html": [
       "<div>\n",
       "<style scoped>\n",
       "    .dataframe tbody tr th:only-of-type {\n",
       "        vertical-align: middle;\n",
       "    }\n",
       "\n",
       "    .dataframe tbody tr th {\n",
       "        vertical-align: top;\n",
       "    }\n",
       "\n",
       "    .dataframe thead th {\n",
       "        text-align: right;\n",
       "    }\n",
       "</style>\n",
       "<table border=\"1\" class=\"dataframe\">\n",
       "  <thead>\n",
       "    <tr style=\"text-align: right;\">\n",
       "      <th></th>\n",
       "      <th>driver_race</th>\n",
       "      <th>driver_age_group</th>\n",
       "      <th>driver_gender</th>\n",
       "      <th>district</th>\n",
       "      <th>stop_year</th>\n",
       "      <th>n_stops</th>\n",
       "    </tr>\n",
       "  </thead>\n",
       "  <tbody>\n",
       "    <tr>\n",
       "      <th>0</th>\n",
       "      <td>Asian</td>\n",
       "      <td>[15.0, 20.0)</td>\n",
       "      <td>F</td>\n",
       "      <td>A1</td>\n",
       "      <td>2010</td>\n",
       "      <td>1</td>\n",
       "    </tr>\n",
       "    <tr>\n",
       "      <th>1</th>\n",
       "      <td>Asian</td>\n",
       "      <td>[15.0, 20.0)</td>\n",
       "      <td>F</td>\n",
       "      <td>A1</td>\n",
       "      <td>2011</td>\n",
       "      <td>1</td>\n",
       "    </tr>\n",
       "    <tr>\n",
       "      <th>2</th>\n",
       "      <td>Asian</td>\n",
       "      <td>[15.0, 20.0)</td>\n",
       "      <td>F</td>\n",
       "      <td>A1</td>\n",
       "      <td>2012</td>\n",
       "      <td>1</td>\n",
       "    </tr>\n",
       "    <tr>\n",
       "      <th>3</th>\n",
       "      <td>Asian</td>\n",
       "      <td>[15.0, 20.0)</td>\n",
       "      <td>F</td>\n",
       "      <td>A1</td>\n",
       "      <td>2013</td>\n",
       "      <td>0</td>\n",
       "    </tr>\n",
       "    <tr>\n",
       "      <th>4</th>\n",
       "      <td>Asian</td>\n",
       "      <td>[15.0, 20.0)</td>\n",
       "      <td>F</td>\n",
       "      <td>A1</td>\n",
       "      <td>2014</td>\n",
       "      <td>0</td>\n",
       "    </tr>\n",
       "    <tr>\n",
       "      <th>5</th>\n",
       "      <td>Asian</td>\n",
       "      <td>[15.0, 20.0)</td>\n",
       "      <td>F</td>\n",
       "      <td>A1</td>\n",
       "      <td>2015</td>\n",
       "      <td>2</td>\n",
       "    </tr>\n",
       "    <tr>\n",
       "      <th>6</th>\n",
       "      <td>Asian</td>\n",
       "      <td>[15.0, 20.0)</td>\n",
       "      <td>F</td>\n",
       "      <td>A2</td>\n",
       "      <td>2010</td>\n",
       "      <td>0</td>\n",
       "    </tr>\n",
       "    <tr>\n",
       "      <th>7</th>\n",
       "      <td>Asian</td>\n",
       "      <td>[15.0, 20.0)</td>\n",
       "      <td>F</td>\n",
       "      <td>A2</td>\n",
       "      <td>2011</td>\n",
       "      <td>0</td>\n",
       "    </tr>\n",
       "    <tr>\n",
       "      <th>8</th>\n",
       "      <td>Asian</td>\n",
       "      <td>[15.0, 20.0)</td>\n",
       "      <td>F</td>\n",
       "      <td>A2</td>\n",
       "      <td>2012</td>\n",
       "      <td>0</td>\n",
       "    </tr>\n",
       "    <tr>\n",
       "      <th>9</th>\n",
       "      <td>Asian</td>\n",
       "      <td>[15.0, 20.0)</td>\n",
       "      <td>F</td>\n",
       "      <td>A2</td>\n",
       "      <td>2013</td>\n",
       "      <td>2</td>\n",
       "    </tr>\n",
       "  </tbody>\n",
       "</table>\n",
       "</div>"
      ]
     },
     "metadata": {},
     "execution_count": 89
    }
   ],
   "metadata": {}
  },
  {
   "cell_type": "code",
   "execution_count": 90,
   "source": [
    "# Yay!\r\n",
    "count_table[(count_table.driver_race == 'Hispanic') & (count_table.driver_age_group == '[30.0, 40.0)') & (count_table.driver_gender == 'F')& (count_table.district == 'B5') & (count_table.stop_year == 2012)] "
   ],
   "outputs": [
    {
     "output_type": "execute_result",
     "data": {
      "text/plain": [
       "     driver_race driver_age_group driver_gender district  stop_year  n_stops\n",
       "8288    Hispanic     [30.0, 40.0)             F       B5       2012       76"
      ],
      "text/html": [
       "<div>\n",
       "<style scoped>\n",
       "    .dataframe tbody tr th:only-of-type {\n",
       "        vertical-align: middle;\n",
       "    }\n",
       "\n",
       "    .dataframe tbody tr th {\n",
       "        vertical-align: top;\n",
       "    }\n",
       "\n",
       "    .dataframe thead th {\n",
       "        text-align: right;\n",
       "    }\n",
       "</style>\n",
       "<table border=\"1\" class=\"dataframe\">\n",
       "  <thead>\n",
       "    <tr style=\"text-align: right;\">\n",
       "      <th></th>\n",
       "      <th>driver_race</th>\n",
       "      <th>driver_age_group</th>\n",
       "      <th>driver_gender</th>\n",
       "      <th>district</th>\n",
       "      <th>stop_year</th>\n",
       "      <th>n_stops</th>\n",
       "    </tr>\n",
       "  </thead>\n",
       "  <tbody>\n",
       "    <tr>\n",
       "      <th>8288</th>\n",
       "      <td>Hispanic</td>\n",
       "      <td>[30.0, 40.0)</td>\n",
       "      <td>F</td>\n",
       "      <td>B5</td>\n",
       "      <td>2012</td>\n",
       "      <td>76</td>\n",
       "    </tr>\n",
       "  </tbody>\n",
       "</table>\n",
       "</div>"
      ]
     },
     "metadata": {},
     "execution_count": 90
    }
   ],
   "metadata": {}
  },
  {
   "cell_type": "code",
   "execution_count": 94,
   "source": [
    "# Yay - must be correct now :D!\r\n",
    "count_table[\r\n",
    "    (count_table.driver_race == 'White') \\\r\n",
    "    & (count_table.driver_age_group == '[40.0, 50.0)') \\\r\n",
    "    & (count_table.driver_gender == 'F') \\\r\n",
    "    & (count_table.district == 'C8') \\\r\n",
    "    & (count_table.stop_year == 2011)\r\n",
    "] "
   ],
   "outputs": [
    {
     "output_type": "execute_result",
     "data": {
      "text/plain": [
       "      driver_race driver_age_group driver_gender district  stop_year  n_stops\n",
       "12457       White     [40.0, 50.0)             F       C8       2011      213"
      ],
      "text/html": [
       "<div>\n",
       "<style scoped>\n",
       "    .dataframe tbody tr th:only-of-type {\n",
       "        vertical-align: middle;\n",
       "    }\n",
       "\n",
       "    .dataframe tbody tr th {\n",
       "        vertical-align: top;\n",
       "    }\n",
       "\n",
       "    .dataframe thead th {\n",
       "        text-align: right;\n",
       "    }\n",
       "</style>\n",
       "<table border=\"1\" class=\"dataframe\">\n",
       "  <thead>\n",
       "    <tr style=\"text-align: right;\">\n",
       "      <th></th>\n",
       "      <th>driver_race</th>\n",
       "      <th>driver_age_group</th>\n",
       "      <th>driver_gender</th>\n",
       "      <th>district</th>\n",
       "      <th>stop_year</th>\n",
       "      <th>n_stops</th>\n",
       "    </tr>\n",
       "  </thead>\n",
       "  <tbody>\n",
       "    <tr>\n",
       "      <th>12457</th>\n",
       "      <td>White</td>\n",
       "      <td>[40.0, 50.0)</td>\n",
       "      <td>F</td>\n",
       "      <td>C8</td>\n",
       "      <td>2011</td>\n",
       "      <td>213</td>\n",
       "    </tr>\n",
       "  </tbody>\n",
       "</table>\n",
       "</div>"
      ]
     },
     "metadata": {},
     "execution_count": 94
    }
   ],
   "metadata": {}
  }
 ],
 "metadata": {
  "kernelspec": {
   "name": "python3",
   "display_name": "Python 3.8.10 64-bit ('fairness-oriented-interpretability-of-predictive-algorithms': conda)"
  },
  "language_info": {
   "codemirror_mode": {
    "name": "ipython",
    "version": 3
   },
   "file_extension": ".py",
   "mimetype": "text/x-python",
   "name": "python",
   "nbconvert_exporter": "python",
   "pygments_lexer": "ipython3",
   "version": "3.8.10"
  },
  "interpreter": {
   "hash": "e27527e3a7fa368985868fd26f5a9240997481155e40485d8e6d216dcdc36233"
  }
 },
 "nbformat": 4,
 "nbformat_minor": 5
}