{
 "cells": [
  {
   "cell_type": "code",
   "execution_count": 1,
   "id": "9711b141",
   "metadata": {},
   "outputs": [],
   "source": [
    "import pandas as pd"
   ]
  },
  {
   "cell_type": "markdown",
   "id": "0686e170",
   "metadata": {},
   "source": [
    "# Fairml book problem set: Data modeling of traffic stops"
   ]
  },
  {
   "cell_type": "markdown",
   "id": "914331d4",
   "metadata": {},
   "source": [
    "Data is downloaded from link in fairml book and unzipped using 7-zip. "
   ]
  },
  {
   "cell_type": "markdown",
   "id": "69ec4bda",
   "metadata": {},
   "source": [
    "### Loading data"
   ]
  },
  {
   "cell_type": "code",
   "execution_count": 9,
   "id": "672c6d36",
   "metadata": {},
   "outputs": [],
   "source": [
    "data_path = '..\\\\data\\\\raw\\\\fairml_traffic_stops\\\\NC_cleaned.csv'\n",
    "df = pd.read_csv(data_path, low_memory = False) # low_memory False due to mixed types in columns"
   ]
  },
  {
   "cell_type": "code",
   "execution_count": 11,
   "id": "6aa26928",
   "metadata": {},
   "outputs": [
    {
     "data": {
      "text/html": [
       "<div>\n",
       "<style scoped>\n",
       "    .dataframe tbody tr th:only-of-type {\n",
       "        vertical-align: middle;\n",
       "    }\n",
       "\n",
       "    .dataframe tbody tr th {\n",
       "        vertical-align: top;\n",
       "    }\n",
       "\n",
       "    .dataframe thead th {\n",
       "        text-align: right;\n",
       "    }\n",
       "</style>\n",
       "<table border=\"1\" class=\"dataframe\">\n",
       "  <thead>\n",
       "    <tr style=\"text-align: right;\">\n",
       "      <th></th>\n",
       "      <th>id</th>\n",
       "      <th>state</th>\n",
       "      <th>stop_date</th>\n",
       "      <th>stop_time</th>\n",
       "      <th>location_raw</th>\n",
       "      <th>county_name</th>\n",
       "      <th>county_fips</th>\n",
       "      <th>fine_grained_location</th>\n",
       "      <th>police_department</th>\n",
       "      <th>driver_gender</th>\n",
       "      <th>...</th>\n",
       "      <th>search_type_raw</th>\n",
       "      <th>search_type</th>\n",
       "      <th>contraband_found</th>\n",
       "      <th>stop_outcome</th>\n",
       "      <th>is_arrested</th>\n",
       "      <th>search_basis</th>\n",
       "      <th>officer_id</th>\n",
       "      <th>drugs_related_stop</th>\n",
       "      <th>ethnicity</th>\n",
       "      <th>district</th>\n",
       "    </tr>\n",
       "  </thead>\n",
       "  <tbody>\n",
       "    <tr>\n",
       "      <th>0</th>\n",
       "      <td>NC-2000-000001</td>\n",
       "      <td>NC</td>\n",
       "      <td>2000-01-01</td>\n",
       "      <td>00:01</td>\n",
       "      <td>NaN</td>\n",
       "      <td>NaN</td>\n",
       "      <td>NaN</td>\n",
       "      <td>Unknown</td>\n",
       "      <td>NC State Highway Patrol</td>\n",
       "      <td>M</td>\n",
       "      <td>...</td>\n",
       "      <td>Search Incident to Arrest</td>\n",
       "      <td>Incident to Arrest</td>\n",
       "      <td>False</td>\n",
       "      <td>Arrest</td>\n",
       "      <td>True</td>\n",
       "      <td>NaN</td>\n",
       "      <td>NaN</td>\n",
       "      <td>NaN</td>\n",
       "      <td>N</td>\n",
       "      <td>NaN</td>\n",
       "    </tr>\n",
       "    <tr>\n",
       "      <th>1</th>\n",
       "      <td>NC-2000-000002</td>\n",
       "      <td>NC</td>\n",
       "      <td>2000-01-01</td>\n",
       "      <td>00:01</td>\n",
       "      <td>NaN</td>\n",
       "      <td>NaN</td>\n",
       "      <td>NaN</td>\n",
       "      <td>Unknown</td>\n",
       "      <td>NC State Highway Patrol</td>\n",
       "      <td>M</td>\n",
       "      <td>...</td>\n",
       "      <td>NaN</td>\n",
       "      <td>NaN</td>\n",
       "      <td>False</td>\n",
       "      <td>Written Warning</td>\n",
       "      <td>False</td>\n",
       "      <td>NaN</td>\n",
       "      <td>NaN</td>\n",
       "      <td>NaN</td>\n",
       "      <td>N</td>\n",
       "      <td>NaN</td>\n",
       "    </tr>\n",
       "    <tr>\n",
       "      <th>2</th>\n",
       "      <td>NC-2000-000003</td>\n",
       "      <td>NC</td>\n",
       "      <td>2000-01-01</td>\n",
       "      <td>00:01</td>\n",
       "      <td>NaN</td>\n",
       "      <td>NaN</td>\n",
       "      <td>NaN</td>\n",
       "      <td>Unknown</td>\n",
       "      <td>NC State Highway Patrol</td>\n",
       "      <td>F</td>\n",
       "      <td>...</td>\n",
       "      <td>NaN</td>\n",
       "      <td>NaN</td>\n",
       "      <td>False</td>\n",
       "      <td>Written Warning</td>\n",
       "      <td>False</td>\n",
       "      <td>NaN</td>\n",
       "      <td>NaN</td>\n",
       "      <td>NaN</td>\n",
       "      <td>N</td>\n",
       "      <td>NaN</td>\n",
       "    </tr>\n",
       "    <tr>\n",
       "      <th>3</th>\n",
       "      <td>NC-2000-000004</td>\n",
       "      <td>NC</td>\n",
       "      <td>2000-01-01</td>\n",
       "      <td>00:02</td>\n",
       "      <td>NaN</td>\n",
       "      <td>NaN</td>\n",
       "      <td>NaN</td>\n",
       "      <td>Unknown</td>\n",
       "      <td>NC State Highway Patrol</td>\n",
       "      <td>F</td>\n",
       "      <td>...</td>\n",
       "      <td>NaN</td>\n",
       "      <td>NaN</td>\n",
       "      <td>False</td>\n",
       "      <td>Citation</td>\n",
       "      <td>False</td>\n",
       "      <td>NaN</td>\n",
       "      <td>NaN</td>\n",
       "      <td>NaN</td>\n",
       "      <td>N</td>\n",
       "      <td>NaN</td>\n",
       "    </tr>\n",
       "    <tr>\n",
       "      <th>4</th>\n",
       "      <td>NC-2000-000005</td>\n",
       "      <td>NC</td>\n",
       "      <td>2000-01-01</td>\n",
       "      <td>00:02</td>\n",
       "      <td>NaN</td>\n",
       "      <td>NaN</td>\n",
       "      <td>NaN</td>\n",
       "      <td>Unknown</td>\n",
       "      <td>NC State Highway Patrol</td>\n",
       "      <td>F</td>\n",
       "      <td>...</td>\n",
       "      <td>NaN</td>\n",
       "      <td>NaN</td>\n",
       "      <td>False</td>\n",
       "      <td>No Action</td>\n",
       "      <td>False</td>\n",
       "      <td>NaN</td>\n",
       "      <td>NaN</td>\n",
       "      <td>NaN</td>\n",
       "      <td>N</td>\n",
       "      <td>NaN</td>\n",
       "    </tr>\n",
       "  </tbody>\n",
       "</table>\n",
       "<p>5 rows × 27 columns</p>\n",
       "</div>"
      ],
      "text/plain": [
       "               id state   stop_date stop_time location_raw county_name  \\\n",
       "0  NC-2000-000001    NC  2000-01-01     00:01          NaN         NaN   \n",
       "1  NC-2000-000002    NC  2000-01-01     00:01          NaN         NaN   \n",
       "2  NC-2000-000003    NC  2000-01-01     00:01          NaN         NaN   \n",
       "3  NC-2000-000004    NC  2000-01-01     00:02          NaN         NaN   \n",
       "4  NC-2000-000005    NC  2000-01-01     00:02          NaN         NaN   \n",
       "\n",
       "   county_fips fine_grained_location        police_department driver_gender  \\\n",
       "0          NaN               Unknown  NC State Highway Patrol             M   \n",
       "1          NaN               Unknown  NC State Highway Patrol             M   \n",
       "2          NaN               Unknown  NC State Highway Patrol             F   \n",
       "3          NaN               Unknown  NC State Highway Patrol             F   \n",
       "4          NaN               Unknown  NC State Highway Patrol             F   \n",
       "\n",
       "   ...            search_type_raw         search_type contraband_found  \\\n",
       "0  ...  Search Incident to Arrest  Incident to Arrest            False   \n",
       "1  ...                        NaN                 NaN            False   \n",
       "2  ...                        NaN                 NaN            False   \n",
       "3  ...                        NaN                 NaN            False   \n",
       "4  ...                        NaN                 NaN            False   \n",
       "\n",
       "      stop_outcome is_arrested search_basis  officer_id drugs_related_stop  \\\n",
       "0           Arrest        True          NaN         NaN                NaN   \n",
       "1  Written Warning       False          NaN         NaN                NaN   \n",
       "2  Written Warning       False          NaN         NaN                NaN   \n",
       "3         Citation       False          NaN         NaN                NaN   \n",
       "4        No Action       False          NaN         NaN                NaN   \n",
       "\n",
       "  ethnicity  district  \n",
       "0         N       NaN  \n",
       "1         N       NaN  \n",
       "2         N       NaN  \n",
       "3         N       NaN  \n",
       "4         N       NaN  \n",
       "\n",
       "[5 rows x 27 columns]"
      ]
     },
     "execution_count": 11,
     "metadata": {},
     "output_type": "execute_result"
    }
   ],
   "source": [
    "df.head()"
   ]
  },
  {
   "cell_type": "code",
   "execution_count": 14,
   "id": "0ebfe6c3",
   "metadata": {},
   "outputs": [
    {
     "data": {
      "text/plain": [
       "Index(['id', 'state', 'stop_date', 'stop_time', 'location_raw', 'county_name',\n",
       "       'county_fips', 'fine_grained_location', 'police_department',\n",
       "       'driver_gender', 'driver_age_raw', 'driver_age', 'driver_race_raw',\n",
       "       'driver_race', 'violation_raw', 'violation', 'search_conducted',\n",
       "       'search_type_raw', 'search_type', 'contraband_found', 'stop_outcome',\n",
       "       'is_arrested', 'search_basis', 'officer_id', 'drugs_related_stop',\n",
       "       'ethnicity', 'district'],\n",
       "      dtype='object')"
      ]
     },
     "execution_count": 14,
     "metadata": {},
     "output_type": "execute_result"
    }
   ],
   "source": [
    "df.columns"
   ]
  },
  {
   "cell_type": "code",
   "execution_count": 17,
   "id": "a5fd17d3",
   "metadata": {},
   "outputs": [
    {
     "data": {
      "text/plain": [
       "id                        object\n",
       "state                     object\n",
       "stop_date                 object\n",
       "stop_time                 object\n",
       "location_raw              object\n",
       "county_name               object\n",
       "county_fips              float64\n",
       "fine_grained_location     object\n",
       "police_department         object\n",
       "driver_gender             object\n",
       "driver_age_raw           float64\n",
       "driver_age               float64\n",
       "driver_race_raw           object\n",
       "driver_race               object\n",
       "violation_raw             object\n",
       "violation                 object\n",
       "search_conducted            bool\n",
       "search_type_raw           object\n",
       "search_type               object\n",
       "contraband_found            bool\n",
       "stop_outcome              object\n",
       "is_arrested                 bool\n",
       "search_basis              object\n",
       "officer_id                object\n",
       "drugs_related_stop        object\n",
       "ethnicity                 object\n",
       "district                  object\n",
       "dtype: object"
      ]
     },
     "execution_count": 17,
     "metadata": {},
     "output_type": "execute_result"
    }
   ],
   "source": [
    "df.dtypes"
   ]
  },
  {
   "cell_type": "code",
   "execution_count": 39,
   "id": "07ecfcf1",
   "metadata": {},
   "outputs": [
    {
     "data": {
      "text/plain": [
       "(10000, 27)"
      ]
     },
     "execution_count": 39,
     "metadata": {},
     "output_type": "execute_result"
    }
   ],
   "source": [
    "df.shape"
   ]
  },
  {
   "cell_type": "code",
   "execution_count": 30,
   "id": "ba6a54eb",
   "metadata": {},
   "outputs": [],
   "source": [
    "df_raw = df\n",
    "df = df_raw.sample(10000)"
   ]
  },
  {
   "cell_type": "code",
   "execution_count": 42,
   "id": "ecaf7c11",
   "metadata": {},
   "outputs": [
    {
     "data": {
      "text/plain": [
       "True"
      ]
     },
     "execution_count": 42,
     "metadata": {},
     "output_type": "execute_result"
    }
   ],
   "source": [
    "df.id.is_unique # All rows are unique"
   ]
  },
  {
   "cell_type": "markdown",
   "id": "c4a91a8f",
   "metadata": {},
   "source": [
    "### Part A \n",
    "#### Counting stop rates and population sizes\n",
    "\n",
    "First the data is cleaned to contain only the relevant categories and age is aggregated into the age groups"
   ]
  },
  {
   "cell_type": "code",
   "execution_count": 31,
   "id": "518b828e",
   "metadata": {},
   "outputs": [
    {
     "name": "stdout",
     "output_type": "stream",
     "text": [
      "['U H' 'U N' 'B N' 'W N' 'I N' 'W H' 'A N' 'B H' 'A H']\n",
      "['Hispanic' 'Other' 'Black' 'White' 'Asian']\n"
     ]
    }
   ],
   "source": [
    "race_groups = ['Asian', 'Black', 'Hispanic', 'White']\n",
    "\n",
    "print(df['driver_race_raw'].unique())\n",
    "print(df['driver_race'].unique())"
   ]
  },
  {
   "cell_type": "code",
   "execution_count": 44,
   "id": "75618db1",
   "metadata": {},
   "outputs": [
    {
     "data": {
      "text/plain": [
       "array([22., 57., 72., 67., 53., 42., 32., 55., 46., 31., 37., 35., 38.,\n",
       "       63., 40., 50., 47., 49., 21., 25., 18., 44., 23., 26., 28., 39.,\n",
       "       41., 60., 62., 30., 58., 54., 16., 66., 51., 29., 33., 61., 34.,\n",
       "       36., 24., 74., 83., 27., 45., 20., 43., 19., 56., 17., 75., 59.,\n",
       "       77., 69., 52., 84., 65., 76., 48., 64., 70., 88., 82., 73., 71.,\n",
       "       79., 78., 68., 86., 80., 85., nan, 81., 89., 87.])"
      ]
     },
     "execution_count": 44,
     "metadata": {},
     "output_type": "execute_result"
    }
   ],
   "source": [
    "df.driver_age.unique()"
   ]
  },
  {
   "cell_type": "code",
   "execution_count": 32,
   "id": "0c7cbcef",
   "metadata": {},
   "outputs": [],
   "source": [
    "df_clean = df[df.driver_race.isin(race_groups)]"
   ]
  },
  {
   "cell_type": "code",
   "execution_count": 45,
   "id": "2a5d0594",
   "metadata": {},
   "outputs": [],
   "source": [
    "age_groups = [15, 20, 30, 40, 50]"
   ]
  },
  {
   "cell_type": "code",
   "execution_count": 47,
   "id": "9c17bba4",
   "metadata": {},
   "outputs": [
    {
     "name": "stderr",
     "output_type": "stream",
     "text": [
      "<ipython-input-47-1cb0fdb838ec>:1: SettingWithCopyWarning: \n",
      "A value is trying to be set on a copy of a slice from a DataFrame.\n",
      "Try using .loc[row_indexer,col_indexer] = value instead\n",
      "\n",
      "See the caveats in the documentation: https://pandas.pydata.org/pandas-docs/stable/user_guide/indexing.html#returning-a-view-versus-a-copy\n",
      "  df_clean['age_group'] = pd.cut(df_clean.driver_age, bins = age_groups)\n"
     ]
    }
   ],
   "source": [
    "df_clean['age_group'] = pd.cut(df_clean.driver_age, bins = age_groups)"
   ]
  },
  {
   "cell_type": "code",
   "execution_count": null,
   "id": "0a0d8455",
   "metadata": {},
   "outputs": [],
   "source": []
  }
 ],
 "metadata": {
  "kernelspec": {
   "display_name": "Python 3",
   "language": "python",
   "name": "python3"
  },
  "language_info": {
   "codemirror_mode": {
    "name": "ipython",
    "version": 3
   },
   "file_extension": ".py",
   "mimetype": "text/x-python",
   "name": "python",
   "nbconvert_exporter": "python",
   "pygments_lexer": "ipython3",
   "version": "3.8.10"
  }
 },
 "nbformat": 4,
 "nbformat_minor": 5
}
